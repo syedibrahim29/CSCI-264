{
  "nbformat": 4,
  "nbformat_minor": 0,
  "metadata": {
    "colab": {
      "provenance": [],
      "include_colab_link": true
    },
    "kernelspec": {
      "name": "python3",
      "display_name": "Python 3"
    },
    "language_info": {
      "name": "python"
    }
  },
  "cells": [
    {
      "cell_type": "markdown",
      "metadata": {
        "id": "view-in-github",
        "colab_type": "text"
      },
      "source": [
        "<a href=\"https://colab.research.google.com/github/syedibrahim29/CSCI-264/blob/main/backpropagation.ipynb\" target=\"_parent\"><img src=\"https://colab.research.google.com/assets/colab-badge.svg\" alt=\"Open In Colab\"/></a>"
      ]
    },
    {
      "cell_type": "code",
      "source": [
        "import numpy as np\n",
        "import math\n",
        "import random"
      ],
      "metadata": {
        "id": "DdBn07F83r_V"
      },
      "execution_count": null,
      "outputs": []
    },
    {
      "cell_type": "code",
      "source": [
        "def F(w,x):\n",
        "  return sum([w*x for w,x in zip(w,x)])"
      ],
      "metadata": {
        "id": "B3r_gn4QKQBy"
      },
      "execution_count": null,
      "outputs": []
    },
    {
      "cell_type": "code",
      "source": [
        "def sigmoid(x):\n",
        "  return 1.0/(1+math.exp(-x))"
      ],
      "metadata": {
        "id": "tKVwu7s4Kc4a"
      },
      "execution_count": null,
      "outputs": []
    },
    {
      "cell_type": "code",
      "source": [
        "def result(x):\n",
        "  return max([0.0,x])"
      ],
      "metadata": {
        "id": "HJmHxjLAXzxC"
      },
      "execution_count": null,
      "outputs": []
    },
    {
      "cell_type": "code",
      "source": [
        "def classify(model,x):\n",
        "  return [1 if sigmoid(F(model,x))>0.5 else 0 for x in X]"
      ],
      "metadata": {
        "id": "9F3DyfoYYIL8"
      },
      "execution_count": null,
      "outputs": []
    },
    {
      "cell_type": "code",
      "source": [
        "def predict(model,x):\n",
        "  w1=model[0]\n",
        "  w2=model[1]\n",
        "  w3=model[2]\n",
        "  w4=model[3]\n",
        "  w5=model[4]\n",
        "  z1=sigmoid(F(w1,x))\n",
        "  z2=sigmoid(F(w2,x))\n",
        "  z3=sigmoid(F(w3,x))\n",
        "  z4=sigmoid(F(w4,x))\n",
        "  z5=sigmoid(F(w5,x))\n",
        "  z=(1,z1,z2,z3,z4,z5)\n",
        "  y=sigmoid(F(v1,z))\n",
        "  return y"
      ],
      "metadata": {
        "id": "BtLkQ-EQYsMW"
      },
      "execution_count": null,
      "outputs": []
    },
    {
      "cell_type": "code",
      "source": [
        "def classifyY(Y):\n",
        "  return [1 if y>0.5 else 0 for y in Y]"
      ],
      "metadata": {
        "id": "-17WHWfLZshD"
      },
      "execution_count": null,
      "outputs": []
    },
    {
      "cell_type": "markdown",
      "source": [
        "Training Data"
      ],
      "metadata": {
        "id": "xQwGNICV1Z5g"
      }
    },
    {
      "cell_type": "code",
      "source": [
        "data=[((0,0),0),((0,1),1),((1,0),1),((1,1),0)]"
      ],
      "metadata": {
        "id": "ErkEh84C1evo"
      },
      "execution_count": null,
      "outputs": []
    },
    {
      "cell_type": "markdown",
      "source": [
        "**Initialize Random weights**\n"
      ],
      "metadata": {
        "id": "tLaeaMKF18pm"
      }
    },
    {
      "cell_type": "code",
      "source": [
        "np.random.seed(42)\n",
        "def random_weights(weights,range):\n",
        "  newWeights=[]\n",
        "  for w in weights:\n",
        "    newWeights.append([np.random.uniform(-1*range,range) for we in w])\n",
        "  return newWeights\n",
        "w1=[0,0,0]\n",
        "w2=[0,0,0]\n",
        "w3=[0,0,0]\n",
        "w4=[0,0,0]\n",
        "w5=[0,0,0]\n",
        "v1=[0,0,0]\n",
        "[w1,w2,w3,w4,w5,v1]=random_weights([w1,w2,w3,w4,w5,v1],1)\n",
        "model=[w1,w2,w3,w4,w5,v1]\n",
        "print(f\"Initial random weights:{model}\")"
      ],
      "metadata": {
        "colab": {
          "base_uri": "https://localhost:8080/"
        },
        "id": "aE_Ou45Q2AXu",
        "outputId": "846aaaed-7f39-4bfe-d06a-c14288a64ec7"
      },
      "execution_count": null,
      "outputs": [
        {
          "output_type": "stream",
          "name": "stdout",
          "text": [
            "Initial random weights:[[-0.250919762305275, 0.9014286128198323, 0.4639878836228102], [0.1973169683940732, -0.687962719115127, -0.6880109593275947], [-0.8838327756636011, 0.7323522915498704, 0.2022300234864176], [0.416145155592091, -0.9588310114083951, 0.9398197043239886], [0.6648852816008435, -0.5753217786434477, -0.6363500655857988], [-0.6331909802931324, -0.39151551408092455, 0.04951286326447568]]\n"
          ]
        }
      ]
    },
    {
      "cell_type": "markdown",
      "source": [
        "**Learning Rate Data** **And Data**"
      ],
      "metadata": {
        "id": "1CLnlC3OPM7l"
      }
    },
    {
      "cell_type": "code",
      "source": [
        "learning_rate=0.3\n",
        "train_data=data.copy()\n",
        "print(train_data)\n",
        "train_data=[((1,x1,x2),r) for ((x1,x2),r) in train_data]\n",
        "print(train_data)"
      ],
      "metadata": {
        "colab": {
          "base_uri": "https://localhost:8080/"
        },
        "id": "CW5ojpf71sC0",
        "outputId": "2ffd9d2a-a445-4b2a-f879-f4b98df0aeee"
      },
      "execution_count": null,
      "outputs": [
        {
          "output_type": "stream",
          "name": "stdout",
          "text": [
            "[((0, 0), 0), ((0, 1), 1), ((1, 0), 1), ((1, 1), 0)]\n",
            "[((1, 0, 0), 0), ((1, 0, 1), 1), ((1, 1, 0), 1), ((1, 1, 1), 0)]\n"
          ]
        }
      ]
    },
    {
      "cell_type": "markdown",
      "source": [
        "**Backpropagation Algorithm**"
      ],
      "metadata": {
        "id": "7pBfSZu4Pb5s"
      }
    },
    {
      "cell_type": "code",
      "source": [
        "# Backpropagation function for training the model\n",
        "def Backpropagation(model, learning_rate, data, iterations, display_interval=100):\n",
        "    for i in range(iterations):\n",
        "        np.random.shuffle(data)\n",
        "        if i % display_interval == 0:\n",
        "          learning_rate = initial_learning_rate * np.exp(-i / iterations)\n",
        "          print(f\"Learning Rate:{learning_rate}\")\n",
        "          test_data = [((0, 0), 0), ((0, 1), 1), ((1, 0), 1), ((1, 1), 0)]\n",
        "          X_value = [np.array([1, x1, x2]) for (x1, x2), r in test_data]\n",
        "          Result = [r for (_, _), r in test_data]\n",
        "          yPred = [predict(model, x) for x in X_value]\n",
        "          s_error = sum((r - y) ** 2 for r, y in zip(Result, yPred))\n",
        "          accuracy = calculate_accuracy(model, test_data)\n",
        "          print(f\"Iteration: {i}, Squared Error: {s_error}, Accuracy: {accuracy}\\n\")\n",
        "          print(f\"Output for Data and Updated weights::{trained_model}\")\n",
        "        for x, r in data:\n",
        "            # Forward pass\n",
        "            w1, w2, w3, w4, w5, v1 = model\n",
        "            z1 = sigmoid(F(w1, x))\n",
        "            z2 = sigmoid(F(w2, x))\n",
        "            z3 = sigmoid(F(w3, x))\n",
        "            z4 = sigmoid(F(w4, x))\n",
        "            z5 = sigmoid(F(w5, x))\n",
        "            z = np.array([1, z1, z2, z3, z4, z5])\n",
        "            y = sigmoid(F(v1, z))\n",
        "            # Backward pass\n",
        "            delta_v1 = learning_rate * (r - y) * z\n",
        "            delta_w1 = learning_rate * (r - y) * v1[1] * z1 * (1 - z1) * x\n",
        "            delta_w2 = learning_rate * (r - y) * v1[2] * z2 * (1 - z2) * x\n",
        "            delta_w3 = learning_rate * (r - y) * v1[3] * z3 * (1 - z3) * x\n",
        "            delta_w4 = learning_rate * (r - y) * v1[4] * z4 * (1 - z4) * x\n",
        "            delta_w5 = learning_rate * (r - y) * v1[5] * z5 * (1 - z5) * x\n",
        "            v1 += delta_v1\n",
        "            w1 += delta_w1\n",
        "            w2 += delta_w2\n",
        "            w3 += delta_w3\n",
        "            w4 += delta_w4\n",
        "            w5 += delta_w5\n",
        "            model = [w1, w2, w3, w4, w5, v1]\n",
        "    return model\n"
      ],
      "metadata": {
        "id": "v_zWYhbp7C_C"
      },
      "execution_count": null,
      "outputs": []
    },
    {
      "cell_type": "code",
      "source": [
        "initial_learning_rate=0.3"
      ],
      "metadata": {
        "id": "ySLiMz-e-ZIc"
      },
      "execution_count": null,
      "outputs": []
    },
    {
      "cell_type": "markdown",
      "source": [
        "**Function to calculate accuracy**"
      ],
      "metadata": {
        "id": "-_klKv5gPlHB"
      }
    },
    {
      "cell_type": "code",
      "source": [
        "# Function to calculate accuracy\n",
        "def calculate_accuracy(model, data):\n",
        "    predictions = [predict(model, np.array([1, x1, x2])) for (x1, x2), _ in data]\n",
        "    ground_truth = [r for (_, _), r in data]\n",
        "    predictions = [1 if pred > 0.5 else 0 for pred in predictions]\n",
        "    correct_predictions = sum(1 for pred, actual in zip(predictions, ground_truth) if pred == actual)\n",
        "    return correct_predictions / len(data)"
      ],
      "metadata": {
        "id": "wkFuWkIc2h99"
      },
      "execution_count": null,
      "outputs": []
    },
    {
      "cell_type": "code",
      "source": [
        "# Initialize model weights\n",
        "np.random.seed(42)\n",
        "w1 = np.zeros(3)\n",
        "w2 = np.zeros(3)\n",
        "w3 = np.zeros(3)\n",
        "w4 = np.zeros(3)\n",
        "w5 = np.zeros(3)\n",
        "v1 = np.zeros(6)\n",
        "model = [w1, w2, w3, w4, w5, v1]\n",
        "\n",
        "\n",
        "iterations = 1000\n",
        "\n",
        "# Train the model\n",
        "for c in range(1,6):\n",
        "   print(f\"experiment:{c}\\n\")\n",
        "   print(f\"Initial random weights:{model}\")\n",
        "   trained_model = Backpropagation(model, learning_rate, train_data, iterations)\n"
      ],
      "metadata": {
        "id": "3EDvuSZBGL8S",
        "colab": {
          "base_uri": "https://localhost:8080/"
        },
        "outputId": "376c1d2a-cda0-40a2-d9f6-a677508f8137"
      },
      "execution_count": null,
      "outputs": [
        {
          "output_type": "stream",
          "name": "stdout",
          "text": [
            "experiment:1\n",
            "\n",
            "Initial random weights:[array([0., 0., 0.]), array([0., 0., 0.]), array([0., 0., 0.]), array([0., 0., 0.]), array([0., 0., 0.]), array([0., 0., 0., 0., 0., 0.])]\n",
            "Learning Rate:0.3\n",
            "Iteration: 0, Squared Error: 1.0, Accuracy: 0.5\n",
            "\n",
            "Output for Data or Updated weights::[array([-0.54107021, -6.11472709, -6.11460473]), array([-0.54107021, -6.11472709, -6.11460473]), array([-0.54107021, -6.11472709, -6.11460473]), array([-0.54107021, -6.11472709, -6.11460473]), array([-0.54107021, -6.11472709, -6.11460473]), array([ 0.69873217, -3.39651627, -3.39651627, -3.39651627, -3.39651627,\n",
            "       -3.39651627])]\n",
            "Learning Rate:0.27145122541078787\n",
            "Iteration: 100, Squared Error: 1.0028799373929849, Accuracy: 0.5\n",
            "\n",
            "Output for Data or Updated weights::[array([-0.54107021, -6.11472709, -6.11460473]), array([-0.54107021, -6.11472709, -6.11460473]), array([-0.54107021, -6.11472709, -6.11460473]), array([-0.54107021, -6.11472709, -6.11460473]), array([-0.54107021, -6.11472709, -6.11460473]), array([ 0.69873217, -3.39651627, -3.39651627, -3.39651627, -3.39651627,\n",
            "       -3.39651627])]\n",
            "Learning Rate:0.24561922592339452\n",
            "Iteration: 200, Squared Error: 0.9991928856996165, Accuracy: 0.5\n",
            "\n",
            "Output for Data or Updated weights::[array([-0.54107021, -6.11472709, -6.11460473]), array([-0.54107021, -6.11472709, -6.11460473]), array([-0.54107021, -6.11472709, -6.11460473]), array([-0.54107021, -6.11472709, -6.11460473]), array([-0.54107021, -6.11472709, -6.11460473]), array([ 0.69873217, -3.39651627, -3.39651627, -3.39651627, -3.39651627,\n",
            "       -3.39651627])]\n",
            "Learning Rate:0.22224546620451535\n",
            "Iteration: 300, Squared Error: 0.9951148481927836, Accuracy: 0.25\n",
            "\n",
            "Output for Data or Updated weights::[array([-0.54107021, -6.11472709, -6.11460473]), array([-0.54107021, -6.11472709, -6.11460473]), array([-0.54107021, -6.11472709, -6.11460473]), array([-0.54107021, -6.11472709, -6.11460473]), array([-0.54107021, -6.11472709, -6.11460473]), array([ 0.69873217, -3.39651627, -3.39651627, -3.39651627, -3.39651627,\n",
            "       -3.39651627])]\n",
            "Learning Rate:0.20109601381069178\n",
            "Iteration: 400, Squared Error: 0.9856469731428259, Accuracy: 0.25\n",
            "\n",
            "Output for Data or Updated weights::[array([-0.54107021, -6.11472709, -6.11460473]), array([-0.54107021, -6.11472709, -6.11460473]), array([-0.54107021, -6.11472709, -6.11460473]), array([-0.54107021, -6.11472709, -6.11460473]), array([-0.54107021, -6.11472709, -6.11460473]), array([ 0.69873217, -3.39651627, -3.39651627, -3.39651627, -3.39651627,\n",
            "       -3.39651627])]\n",
            "Learning Rate:0.18195919791379003\n",
            "Iteration: 500, Squared Error: 0.9610600041769606, Accuracy: 0.75\n",
            "\n",
            "Output for Data or Updated weights::[array([-0.54107021, -6.11472709, -6.11460473]), array([-0.54107021, -6.11472709, -6.11460473]), array([-0.54107021, -6.11472709, -6.11460473]), array([-0.54107021, -6.11472709, -6.11460473]), array([-0.54107021, -6.11472709, -6.11460473]), array([ 0.69873217, -3.39651627, -3.39651627, -3.39651627, -3.39651627,\n",
            "       -3.39651627])]\n",
            "Learning Rate:0.16464349082820792\n",
            "Iteration: 600, Squared Error: 0.916920964131026, Accuracy: 0.75\n",
            "\n",
            "Output for Data or Updated weights::[array([-0.54107021, -6.11472709, -6.11460473]), array([-0.54107021, -6.11472709, -6.11460473]), array([-0.54107021, -6.11472709, -6.11460473]), array([-0.54107021, -6.11472709, -6.11460473]), array([-0.54107021, -6.11472709, -6.11460473]), array([ 0.69873217, -3.39651627, -3.39651627, -3.39651627, -3.39651627,\n",
            "       -3.39651627])]\n",
            "Learning Rate:0.14897559113742284\n",
            "Iteration: 700, Squared Error: 0.8635218116106824, Accuracy: 0.75\n",
            "\n",
            "Output for Data or Updated weights::[array([-0.54107021, -6.11472709, -6.11460473]), array([-0.54107021, -6.11472709, -6.11460473]), array([-0.54107021, -6.11472709, -6.11460473]), array([-0.54107021, -6.11472709, -6.11460473]), array([-0.54107021, -6.11472709, -6.11460473]), array([ 0.69873217, -3.39651627, -3.39651627, -3.39651627, -3.39651627,\n",
            "       -3.39651627])]\n",
            "Learning Rate:0.13479868923516647\n",
            "Iteration: 800, Squared Error: 0.8192147816632841, Accuracy: 0.75\n",
            "\n",
            "Output for Data or Updated weights::[array([-0.54107021, -6.11472709, -6.11460473]), array([-0.54107021, -6.11472709, -6.11460473]), array([-0.54107021, -6.11472709, -6.11460473]), array([-0.54107021, -6.11472709, -6.11460473]), array([-0.54107021, -6.11472709, -6.11460473]), array([ 0.69873217, -3.39651627, -3.39651627, -3.39651627, -3.39651627,\n",
            "       -3.39651627])]\n",
            "Learning Rate:0.12197089792217973\n",
            "Iteration: 900, Squared Error: 0.7875493872946149, Accuracy: 0.75\n",
            "\n",
            "Output for Data or Updated weights::[array([-0.54107021, -6.11472709, -6.11460473]), array([-0.54107021, -6.11472709, -6.11460473]), array([-0.54107021, -6.11472709, -6.11460473]), array([-0.54107021, -6.11472709, -6.11460473]), array([-0.54107021, -6.11472709, -6.11460473]), array([ 0.69873217, -3.39651627, -3.39651627, -3.39651627, -3.39651627,\n",
            "       -3.39651627])]\n",
            "experiment:2\n",
            "\n",
            "Initial random weights:[array([-0.83443657, -2.60243341, -2.60653307]), array([-0.83443657, -2.60243341, -2.60653307]), array([-0.83443657, -2.60243341, -2.60653307]), array([-0.83443657, -2.60243341, -2.60653307]), array([-0.83443657, -2.60243341, -2.60653307]), array([ 0.73969405, -1.85874352, -1.85874352, -1.85874352, -1.85874352,\n",
            "       -1.85874352])]\n",
            "Learning Rate:0.3\n",
            "Iteration: 0, Squared Error: 0.7671533526436463, Accuracy: 0.75\n",
            "\n",
            "Output for Data or Updated weights::[array([-0.83443657, -2.60243341, -2.60653307]), array([-0.83443657, -2.60243341, -2.60653307]), array([-0.83443657, -2.60243341, -2.60653307]), array([-0.83443657, -2.60243341, -2.60653307]), array([-0.83443657, -2.60243341, -2.60653307]), array([ 0.73969405, -1.85874352, -1.85874352, -1.85874352, -1.85874352,\n",
            "       -1.85874352])]\n",
            "Learning Rate:0.27145122541078787\n",
            "Iteration: 100, Squared Error: 0.7350892710650565, Accuracy: 0.75\n",
            "\n",
            "Output for Data or Updated weights::[array([-0.77844498, -3.11561465, -3.11783984]), array([-0.77844498, -3.11561465, -3.11783984]), array([-0.77844498, -3.11561465, -3.11783984]), array([-0.77844498, -3.11561465, -3.11783984]), array([-0.77844498, -3.11561465, -3.11783984]), array([ 0.75032791, -2.12853616, -2.12853616, -2.12853616, -2.12853616,\n",
            "       -2.12853616])]\n",
            "Learning Rate:0.24561922592339452\n",
            "Iteration: 200, Squared Error: 0.7187847359358452, Accuracy: 0.75\n",
            "\n",
            "Output for Data or Updated weights::[array([-0.7430195 , -3.47048691, -3.47050445]), array([-0.7430195 , -3.47048691, -3.47050445]), array([-0.7430195 , -3.47048691, -3.47050445]), array([-0.7430195 , -3.47048691, -3.47050445]), array([-0.7430195 , -3.47048691, -3.47050445]), array([ 0.7602937 , -2.30107124, -2.30107124, -2.30107124, -2.30107124,\n",
            "       -2.30107124])]\n",
            "Learning Rate:0.22224546620451535\n",
            "Iteration: 300, Squared Error: 0.7108675462768277, Accuracy: 0.75\n",
            "\n",
            "Output for Data or Updated weights::[array([-0.71642784, -3.72997784, -3.7301375 ]), array([-0.71642784, -3.72997784, -3.7301375 ]), array([-0.71642784, -3.72997784, -3.7301375 ]), array([-0.71642784, -3.72997784, -3.7301375 ]), array([-0.71642784, -3.72997784, -3.7301375 ]), array([ 0.71051543, -2.42355422, -2.42355422, -2.42355422, -2.42355422,\n",
            "       -2.42355422])]\n",
            "Learning Rate:0.20109601381069178\n",
            "Iteration: 400, Squared Error: 0.7040465729867884, Accuracy: 0.75\n",
            "\n",
            "Output for Data or Updated weights::[array([-0.70410442, -3.92875943, -3.92973629]), array([-0.70410442, -3.92875943, -3.92973629]), array([-0.70410442, -3.92875943, -3.92973629]), array([-0.70410442, -3.92875943, -3.92973629]), array([-0.70410442, -3.92875943, -3.92973629]), array([ 0.7205857 , -2.51022613, -2.51022613, -2.51022613, -2.51022613,\n",
            "       -2.51022613])]\n",
            "Learning Rate:0.18195919791379003\n",
            "Iteration: 500, Squared Error: 0.7002470035051218, Accuracy: 0.75\n",
            "\n",
            "Output for Data or Updated weights::[array([-0.68861831, -4.08649193, -4.08703935]), array([-0.68861831, -4.08649193, -4.08703935]), array([-0.68861831, -4.08649193, -4.08703935]), array([-0.68861831, -4.08649193, -4.08703935]), array([-0.68861831, -4.08649193, -4.08703935]), array([ 0.7026676 , -2.58090783, -2.58090783, -2.58090783, -2.58090783,\n",
            "       -2.58090783])]\n",
            "Learning Rate:0.16464349082820792\n",
            "Iteration: 600, Squared Error: 0.6961893832599814, Accuracy: 0.75\n",
            "\n",
            "Output for Data or Updated weights::[array([-0.67932477, -4.21504879, -4.2156614 ]), array([-0.67932477, -4.21504879, -4.2156614 ]), array([-0.67932477, -4.21504879, -4.2156614 ]), array([-0.67932477, -4.21504879, -4.2156614 ]), array([-0.67932477, -4.21504879, -4.2156614 ]), array([ 0.74276206, -2.63599258, -2.63599258, -2.63599258, -2.63599258,\n",
            "       -2.63599258])]\n",
            "Learning Rate:0.14897559113742284\n",
            "Iteration: 700, Squared Error: 0.6942254546200455, Accuracy: 0.75\n",
            "\n",
            "Output for Data or Updated weights::[array([-0.67006493, -4.32079002, -4.32180645]), array([-0.67006493, -4.32079002, -4.32180645]), array([-0.67006493, -4.32079002, -4.32180645]), array([-0.67006493, -4.32079002, -4.32180645]), array([-0.67006493, -4.32079002, -4.32180645]), array([ 0.71828299, -2.68181875, -2.68181875, -2.68181875, -2.68181875,\n",
            "       -2.68181875])]\n",
            "Learning Rate:0.13479868923516647\n",
            "Iteration: 800, Squared Error: 0.6924067884455036, Accuracy: 0.75\n",
            "\n",
            "Output for Data or Updated weights::[array([-0.66307521, -4.40988145, -4.41078836]), array([-0.66307521, -4.40988145, -4.41078836]), array([-0.66307521, -4.40988145, -4.41078836]), array([-0.66307521, -4.40988145, -4.41078836]), array([-0.66307521, -4.40988145, -4.41078836]), array([ 0.71477463, -2.71958057, -2.71958057, -2.71958057, -2.71958057,\n",
            "       -2.71958057])]\n",
            "Learning Rate:0.12197089792217973\n",
            "Iteration: 900, Squared Error: 0.6906717574981229, Accuracy: 0.75\n",
            "\n",
            "Output for Data or Updated weights::[array([-0.65689714, -4.48562037, -4.4863652 ]), array([-0.65689714, -4.48562037, -4.4863652 ]), array([-0.65689714, -4.48562037, -4.4863652 ]), array([-0.65689714, -4.48562037, -4.4863652 ]), array([-0.65689714, -4.48562037, -4.4863652 ]), array([ 0.73140094, -2.75158411, -2.75158411, -2.75158411, -2.75158411,\n",
            "       -2.75158411])]\n",
            "experiment:3\n",
            "\n",
            "Initial random weights:[array([-0.65164795, -4.5503953 , -4.55095874]), array([-0.65164795, -4.5503953 , -4.55095874]), array([-0.65164795, -4.5503953 , -4.55095874]), array([-0.65164795, -4.5503953 , -4.55095874]), array([-0.65164795, -4.5503953 , -4.55095874]), array([ 0.72415266, -2.77878146, -2.77878146, -2.77878146, -2.77878146,\n",
            "       -2.77878146])]\n",
            "Learning Rate:0.3\n",
            "Iteration: 0, Squared Error: 0.6895632296940337, Accuracy: 0.75\n",
            "\n",
            "Output for Data or Updated weights::[array([-0.65164795, -4.5503953 , -4.55095874]), array([-0.65164795, -4.5503953 , -4.55095874]), array([-0.65164795, -4.5503953 , -4.55095874]), array([-0.65164795, -4.5503953 , -4.55095874]), array([-0.65164795, -4.5503953 , -4.55095874]), array([ 0.72415266, -2.77878146, -2.77878146, -2.77878146, -2.77878146,\n",
            "       -2.77878146])]\n",
            "Learning Rate:0.27145122541078787\n",
            "Iteration: 100, Squared Error: 0.6869456037066206, Accuracy: 0.75\n",
            "\n",
            "Output for Data or Updated weights::[array([-0.64148476, -4.69899483, -4.7011764 ]), array([-0.64148476, -4.69899483, -4.7011764 ]), array([-0.64148476, -4.69899483, -4.7011764 ]), array([-0.64148476, -4.69899483, -4.7011764 ]), array([-0.64148476, -4.69899483, -4.7011764 ]), array([ 0.72584018, -2.840013  , -2.840013  , -2.840013  , -2.840013  ,\n",
            "       -2.840013  ])]\n",
            "Learning Rate:0.24561922592339452\n",
            "Iteration: 200, Squared Error: 0.6860403913154693, Accuracy: 0.75\n",
            "\n",
            "Output for Data or Updated weights::[array([-0.63175784, -4.82006936, -4.8218467 ]), array([-0.63175784, -4.82006936, -4.8218467 ]), array([-0.63175784, -4.82006936, -4.8218467 ]), array([-0.63175784, -4.82006936, -4.8218467 ]), array([-0.63175784, -4.82006936, -4.8218467 ]), array([ 0.66929646, -2.8897967 , -2.8897967 , -2.8897967 , -2.8897967 ,\n",
            "       -2.8897967 ])]\n",
            "Learning Rate:0.22224546620451535\n",
            "Iteration: 300, Squared Error: 0.6835911929395706, Accuracy: 0.75\n",
            "\n",
            "Output for Data or Updated weights::[array([-0.62499242, -4.92074504, -4.92226192]), array([-0.62499242, -4.92074504, -4.92226192]), array([-0.62499242, -4.92074504, -4.92226192]), array([-0.62499242, -4.92074504, -4.92226192]), array([-0.62499242, -4.92074504, -4.92226192]), array([ 0.73689255, -2.93020965, -2.93020965, -2.93020965, -2.93020965,\n",
            "       -2.93020965])]\n",
            "Learning Rate:0.20109601381069178\n",
            "Iteration: 400, Squared Error: 0.6824824669165909, Accuracy: 0.75\n",
            "\n",
            "Output for Data or Updated weights::[array([-0.61972521, -5.00485356, -5.00642098]), array([-0.61972521, -5.00485356, -5.00642098]), array([-0.61972521, -5.00485356, -5.00642098]), array([-0.61972521, -5.00485356, -5.00642098]), array([-0.61972521, -5.00485356, -5.00642098]), array([ 0.73520549, -2.96361032, -2.96361032, -2.96361032, -2.96361032,\n",
            "       -2.96361032])]\n",
            "Learning Rate:0.18195919791379003\n",
            "Iteration: 500, Squared Error: 0.6815955627806485, Accuracy: 0.75\n",
            "\n",
            "Output for Data or Updated weights::[array([-0.61516892, -5.07624266, -5.07772278]), array([-0.61516892, -5.07624266, -5.07772278]), array([-0.61516892, -5.07624266, -5.07772278]), array([-0.61516892, -5.07624266, -5.07772278]), array([-0.61516892, -5.07624266, -5.07772278]), array([ 0.73519095, -2.99181047, -2.99181047, -2.99181047, -2.99181047,\n",
            "       -2.99181047])]\n",
            "Learning Rate:0.16464349082820792\n",
            "Iteration: 600, Squared Error: 0.6811325565334725, Accuracy: 0.75\n",
            "\n",
            "Output for Data or Updated weights::[array([-0.6096892 , -5.13715584, -5.13879041]), array([-0.6096892 , -5.13715584, -5.13879041]), array([-0.6096892 , -5.13715584, -5.13879041]), array([-0.6096892 , -5.13715584, -5.13879041]), array([-0.6096892 , -5.13715584, -5.13879041]), array([ 0.70090528, -3.01662051, -3.01662051, -3.01662051, -3.01662051,\n",
            "       -3.01662051])]\n",
            "Learning Rate:0.14897559113742284\n",
            "Iteration: 700, Squared Error: 0.6803761430728605, Accuracy: 0.75\n",
            "\n",
            "Output for Data or Updated weights::[array([-0.60554931, -5.19000941, -5.19159376]), array([-0.60554931, -5.19000941, -5.19159376]), array([-0.60554931, -5.19000941, -5.19159376]), array([-0.60554931, -5.19000941, -5.19159376]), array([-0.60554931, -5.19000941, -5.19159376]), array([ 0.71873257, -3.03772977, -3.03772977, -3.03772977, -3.03772977,\n",
            "       -3.03772977])]\n",
            "Learning Rate:0.13479868923516647\n",
            "Iteration: 800, Squared Error: 0.6800404893518167, Accuracy: 0.75\n",
            "\n",
            "Output for Data or Updated weights::[array([-0.60106727, -5.2359895 , -5.23729486]), array([-0.60106727, -5.2359895 , -5.23729486]), array([-0.60106727, -5.2359895 , -5.23729486]), array([-0.60106727, -5.2359895 , -5.23729486]), array([-0.60106727, -5.2359895 , -5.23729486]), array([ 0.70079614, -3.05646069, -3.05646069, -3.05646069, -3.05646069,\n",
            "       -3.05646069])]\n",
            "Learning Rate:0.12197089792217973\n",
            "Iteration: 900, Squared Error: 0.679492187745713, Accuracy: 0.75\n",
            "\n",
            "Output for Data or Updated weights::[array([-0.59783435, -5.2762731 , -5.27730146]), array([-0.59783435, -5.2762731 , -5.27730146]), array([-0.59783435, -5.2762731 , -5.27730146]), array([-0.59783435, -5.2762731 , -5.27730146]), array([-0.59783435, -5.2762731 , -5.27730146]), array([ 0.7158645 , -3.07248025, -3.07248025, -3.07248025, -3.07248025,\n",
            "       -3.07248025])]\n",
            "experiment:4\n",
            "\n",
            "Initial random weights:[array([-0.5954241 , -5.31147001, -5.31235692]), array([-0.5954241 , -5.31147001, -5.31235692]), array([-0.5954241 , -5.31147001, -5.31235692]), array([-0.5954241 , -5.31147001, -5.31235692]), array([-0.5954241 , -5.31147001, -5.31235692]), array([ 0.70641847, -3.08625328, -3.08625328, -3.08625328, -3.08625328,\n",
            "       -3.08625328])]\n",
            "Learning Rate:0.3\n",
            "Iteration: 0, Squared Error: 0.6791963526621423, Accuracy: 0.75\n",
            "\n",
            "Output for Data or Updated weights::[array([-0.5954241 , -5.31147001, -5.31235692]), array([-0.5954241 , -5.31147001, -5.31235692]), array([-0.5954241 , -5.31147001, -5.31235692]), array([-0.5954241 , -5.31147001, -5.31235692]), array([-0.5954241 , -5.31147001, -5.31235692]), array([ 0.70641847, -3.08625328, -3.08625328, -3.08625328, -3.08625328,\n",
            "       -3.08625328])]\n",
            "Learning Rate:0.27145122541078787\n",
            "Iteration: 100, Squared Error: 0.6782556219535065, Accuracy: 0.75\n",
            "\n",
            "Output for Data or Updated weights::[array([-0.59062367, -5.3952387 , -5.39664142]), array([-0.59062367, -5.3952387 , -5.39664142]), array([-0.59062367, -5.3952387 , -5.39664142]), array([-0.59062367, -5.3952387 , -5.39664142]), array([-0.59062367, -5.3952387 , -5.39664142]), array([ 0.72828976, -3.11858683, -3.11858683, -3.11858683, -3.11858683,\n",
            "       -3.11858683])]\n",
            "Learning Rate:0.24561922592339452\n",
            "Iteration: 200, Squared Error: 0.6776255035687445, Accuracy: 0.75\n",
            "\n",
            "Output for Data or Updated weights::[array([-0.58446906, -5.46615417, -5.46800534]), array([-0.58446906, -5.46615417, -5.46800534]), array([-0.58446906, -5.46615417, -5.46800534]), array([-0.58446906, -5.46615417, -5.46800534]), array([-0.58446906, -5.46615417, -5.46800534]), array([ 0.73452991, -3.14686208, -3.14686208, -3.14686208, -3.14686208,\n",
            "       -3.14686208])]\n",
            "Learning Rate:0.22224546620451535\n",
            "Iteration: 300, Squared Error: 0.6771666373339329, Accuracy: 0.75\n",
            "\n",
            "Output for Data or Updated weights::[array([-0.58078534, -5.52715159, -5.52865059]), array([-0.58078534, -5.52715159, -5.52865059]), array([-0.58078534, -5.52715159, -5.52865059]), array([-0.58078534, -5.52715159, -5.52865059]), array([-0.58078534, -5.52715159, -5.52865059]), array([ 0.70576529, -3.17017845, -3.17017845, -3.17017845, -3.17017845,\n",
            "       -3.17017845])]\n",
            "Learning Rate:0.20109601381069178\n",
            "Iteration: 400, Squared Error: 0.676672606923854, Accuracy: 0.75\n",
            "\n",
            "Output for Data or Updated weights::[array([-0.57630243, -5.57971758, -5.58115217]), array([-0.57630243, -5.57971758, -5.58115217]), array([-0.57630243, -5.57971758, -5.58115217]), array([-0.57630243, -5.57971758, -5.58115217]), array([-0.57630243, -5.57971758, -5.58115217]), array([ 0.72125305, -3.19089048, -3.19089048, -3.19089048, -3.19089048,\n",
            "       -3.19089048])]\n",
            "Learning Rate:0.18195919791379003\n",
            "Iteration: 500, Squared Error: 0.6763247087774826, Accuracy: 0.75\n",
            "\n",
            "Output for Data or Updated weights::[array([-0.57306584, -5.6254029 , -5.6267245 ]), array([-0.57306584, -5.6254029 , -5.6267245 ]), array([-0.57306584, -5.6254029 , -5.6267245 ]), array([-0.57306584, -5.6254029 , -5.6267245 ]), array([-0.57306584, -5.6254029 , -5.6267245 ]), array([ 0.73708882, -3.2085238 , -3.2085238 , -3.2085238 , -3.2085238 ,\n",
            "       -3.2085238 ])]\n",
            "Learning Rate:0.16464349082820792\n",
            "Iteration: 600, Squared Error: 0.6760326160835144, Accuracy: 0.75\n",
            "\n",
            "Output for Data or Updated weights::[array([-0.56959508, -5.66521674, -5.66636015]), array([-0.56959508, -5.66521674, -5.66636015]), array([-0.56959508, -5.66521674, -5.66636015]), array([-0.56959508, -5.66521674, -5.66636015]), array([-0.56959508, -5.66521674, -5.66636015]), array([ 0.71183289, -3.22415992, -3.22415992, -3.22415992, -3.22415992,\n",
            "       -3.22415992])]\n",
            "Learning Rate:0.14897559113742284\n",
            "Iteration: 700, Squared Error: 0.6758213789370102, Accuracy: 0.75\n",
            "\n",
            "Output for Data or Updated weights::[array([-0.56717165, -5.70006177, -5.70121266]), array([-0.56717165, -5.70006177, -5.70121266]), array([-0.56717165, -5.70006177, -5.70121266]), array([-0.56717165, -5.70006177, -5.70121266]), array([-0.56717165, -5.70006177, -5.70121266]), array([ 0.70149362, -3.23755242, -3.23755242, -3.23755242, -3.23755242,\n",
            "       -3.23755242])]\n",
            "Learning Rate:0.13479868923516647\n",
            "Iteration: 800, Squared Error: 0.6755721195491491, Accuracy: 0.75\n",
            "\n",
            "Output for Data or Updated weights::[array([-0.56531436, -5.73073875, -5.73187936]), array([-0.56531436, -5.73073875, -5.73187936]), array([-0.56531436, -5.73073875, -5.73187936]), array([-0.56531436, -5.73073875, -5.73187936]), array([-0.56531436, -5.73073875, -5.73187936]), array([ 0.70463555, -3.24918458, -3.24918458, -3.24918458, -3.24918458,\n",
            "       -3.24918458])]\n",
            "Learning Rate:0.12197089792217973\n",
            "Iteration: 900, Squared Error: 0.6753725326226896, Accuracy: 0.75\n",
            "\n",
            "Output for Data or Updated weights::[array([-0.56324416, -5.75775306, -5.75899182]), array([-0.56324416, -5.75775306, -5.75899182]), array([-0.56324416, -5.75775306, -5.75899182]), array([-0.56324416, -5.75775306, -5.75899182]), array([-0.56324416, -5.75775306, -5.75899182]), array([ 0.70573163, -3.2596407 , -3.2596407 , -3.2596407 , -3.2596407 ,\n",
            "       -3.2596407 ])]\n",
            "experiment:5\n",
            "\n",
            "Initial random weights:[array([-0.56150137, -5.7817119 , -5.78289533]), array([-0.56150137, -5.7817119 , -5.78289533]), array([-0.56150137, -5.7817119 , -5.78289533]), array([-0.56150137, -5.7817119 , -5.78289533]), array([-0.56150137, -5.7817119 , -5.78289533]), array([ 0.69274431, -3.26883416, -3.26883416, -3.26883416, -3.26883416,\n",
            "       -3.26883416])]\n",
            "Learning Rate:0.3\n",
            "Iteration: 0, Squared Error: 0.6752903470743297, Accuracy: 0.75\n",
            "\n",
            "Output for Data or Updated weights::[array([-0.56150137, -5.7817119 , -5.78289533]), array([-0.56150137, -5.7817119 , -5.78289533]), array([-0.56150137, -5.7817119 , -5.78289533]), array([-0.56150137, -5.7817119 , -5.78289533]), array([-0.56150137, -5.7817119 , -5.78289533]), array([ 0.69274431, -3.26883416, -3.26883416, -3.26883416, -3.26883416,\n",
            "       -3.26883416])]\n",
            "Learning Rate:0.27145122541078787\n",
            "Iteration: 100, Squared Error: 0.6748720611643824, Accuracy: 0.75\n",
            "\n",
            "Output for Data or Updated weights::[array([-0.55846797, -5.83979353, -5.84086999]), array([-0.55846797, -5.83979353, -5.84086999]), array([-0.55846797, -5.83979353, -5.84086999]), array([-0.55846797, -5.83979353, -5.84086999]), array([-0.55846797, -5.83979353, -5.84086999]), array([ 0.69351602, -3.29049492, -3.29049492, -3.29049492, -3.29049492,\n",
            "       -3.29049492])]\n",
            "Learning Rate:0.24561922592339452\n",
            "Iteration: 200, Squared Error: 0.6744913860418263, Accuracy: 0.75\n",
            "\n",
            "Output for Data or Updated weights::[array([-0.55626995, -5.88993292, -5.89083292]), array([-0.55626995, -5.88993292, -5.89083292]), array([-0.55626995, -5.88993292, -5.89083292]), array([-0.55626995, -5.88993292, -5.89083292]), array([-0.55626995, -5.88993292, -5.89083292]), array([ 0.69899954, -3.30891682, -3.30891682, -3.30891682, -3.30891682,\n",
            "       -3.30891682])]\n",
            "Learning Rate:0.22224546620451535\n",
            "Iteration: 300, Squared Error: 0.6741940133464132, Accuracy: 0.75\n",
            "\n",
            "Output for Data or Updated weights::[array([-0.55405191, -5.93340294, -5.93420785]), array([-0.55405191, -5.93340294, -5.93420785]), array([-0.55405191, -5.93340294, -5.93420785]), array([-0.55405191, -5.93340294, -5.93420785]), array([-0.55405191, -5.93340294, -5.93420785]), array([ 0.70186061, -3.32499486, -3.32499486, -3.32499486, -3.32499486,\n",
            "       -3.32499486])]\n",
            "Learning Rate:0.20109601381069178\n",
            "Iteration: 400, Squared Error: 0.6739553676457004, Accuracy: 0.75\n",
            "\n",
            "Output for Data or Updated weights::[array([-0.55082907, -5.97111305, -5.97228949]), array([-0.55082907, -5.97111305, -5.97228949]), array([-0.55082907, -5.97111305, -5.97228949]), array([-0.55082907, -5.97111305, -5.97228949]), array([-0.55082907, -5.97111305, -5.97228949]), array([ 0.70463325, -3.33960468, -3.33960468, -3.33960468, -3.33960468,\n",
            "       -3.33960468])]\n",
            "Learning Rate:0.18195919791379003\n",
            "Iteration: 500, Squared Error: 0.6737355180032757, Accuracy: 0.75\n",
            "\n",
            "Output for Data or Updated weights::[array([-0.54867985, -6.0042996 , -6.00562367]), array([-0.54867985, -6.0042996 , -6.00562367]), array([-0.54867985, -6.0042996 , -6.00562367]), array([-0.54867985, -6.0042996 , -6.00562367]), array([-0.54867985, -6.0042996 , -6.00562367]), array([ 0.71422541, -3.35209145, -3.35209145, -3.35209145, -3.35209145,\n",
            "       -3.35209145])]\n",
            "Learning Rate:0.16464349082820792\n",
            "Iteration: 600, Squared Error: 0.6735857733534583, Accuracy: 0.75\n",
            "\n",
            "Output for Data or Updated weights::[array([-0.54679868, -6.03361083, -6.03479848]), array([-0.54679868, -6.03361083, -6.03479848]), array([-0.54679868, -6.03361083, -6.03479848]), array([-0.54679868, -6.03361083, -6.03479848]), array([-0.54679868, -6.03361083, -6.03479848]), array([ 0.70494051, -3.36304934, -3.36304934, -3.36304934, -3.36304934,\n",
            "       -3.36304934])]\n",
            "Learning Rate:0.14897559113742284\n",
            "Iteration: 700, Squared Error: 0.6734375174757335, Accuracy: 0.75\n",
            "\n",
            "Output for Data or Updated weights::[array([-0.54449447, -6.05952132, -6.0605618 ]), array([-0.54449447, -6.05952132, -6.0605618 ]), array([-0.54449447, -6.05952132, -6.0605618 ]), array([-0.54449447, -6.05952132, -6.0605618 ]), array([-0.54449447, -6.05952132, -6.0605618 ]), array([ 0.7070615 , -3.37301866, -3.37301866, -3.37301866, -3.37301866,\n",
            "       -3.37301866])]\n",
            "Learning Rate:0.13479868923516647\n",
            "Iteration: 800, Squared Error: 0.6733034579003299, Accuracy: 0.75\n",
            "\n",
            "Output for Data or Updated weights::[array([-0.5427141 , -6.08241416, -6.08345223]), array([-0.5427141 , -6.08241416, -6.08345223]), array([-0.5427141 , -6.08241416, -6.08345223]), array([-0.5427141 , -6.08241416, -6.08345223]), array([-0.5427141 , -6.08241416, -6.08345223]), array([ 0.71217469, -3.38172198, -3.38172198, -3.38172198, -3.38172198,\n",
            "       -3.38172198])]\n",
            "Learning Rate:0.12197089792217973\n",
            "Iteration: 900, Squared Error: 0.6732128980786798, Accuracy: 0.75\n",
            "\n",
            "Output for Data or Updated weights::[array([-0.54102483, -6.10265957, -6.10381602]), array([-0.54102483, -6.10265957, -6.10381602]), array([-0.54102483, -6.10265957, -6.10381602]), array([-0.54102483, -6.10265957, -6.10381602]), array([-0.54102483, -6.10265957, -6.10381602]), array([ 0.70399028, -3.38948715, -3.38948715, -3.38948715, -3.38948715,\n",
            "       -3.38948715])]\n"
          ]
        }
      ]
    },
    {
      "cell_type": "markdown",
      "source": [
        "**Final Weights**"
      ],
      "metadata": {
        "id": "Ev-qfwgqP5ED"
      }
    },
    {
      "cell_type": "code",
      "source": [
        "# Print the final trained model\n",
        "print(\"Final weights:\", trained_model)"
      ],
      "metadata": {
        "colab": {
          "base_uri": "https://localhost:8080/"
        },
        "id": "P21G6BfsBxsS",
        "outputId": "df66c23e-7138-4343-9bc4-7ef03866920e"
      },
      "execution_count": null,
      "outputs": [
        {
          "output_type": "stream",
          "name": "stdout",
          "text": [
            "Final weights: [array([-0.538489  , -6.12349177, -6.12456641]), array([-0.538489  , -6.12349177, -6.12456641]), array([-0.538489  , -6.12349177, -6.12456641]), array([-0.538489  , -6.12349177, -6.12456641]), array([-0.538489  , -6.12349177, -6.12456641]), array([ 0.68893918, -3.39653936, -3.39653936, -3.39653936, -3.39653936,\n",
            "       -3.39653936])]\n"
          ]
        }
      ]
    },
    {
      "cell_type": "markdown",
      "source": [
        "**Batch Version of Same Algorithm**"
      ],
      "metadata": {
        "id": "SOsLuciNQGbj"
      }
    },
    {
      "cell_type": "code",
      "source": [
        "import numpy as np\n",
        "import math\n",
        "\n",
        "# Function definitions for F, sigmoid, predict, and calculate_accuracy\n",
        "def F(w, x):\n",
        "    return np.dot(w, x)\n",
        "\n",
        "def sigmoid(x):\n",
        "    return 1.0 / (1 + np.exp(-x))\n",
        "\n",
        "def predict(model, x):\n",
        "    w1, w2, w3, w4, w5, v1 = model\n",
        "    z1 = sigmoid(F(w1, x))\n",
        "    z2 = sigmoid(F(w2, x))\n",
        "    z3 = sigmoid(F(w3, x))\n",
        "    z4 = sigmoid(F(w4, x))\n",
        "    z5 = sigmoid(F(w5, x))\n",
        "    z = np.array([1, z1, z2, z3, z4, z5])\n",
        "    return sigmoid(F(v1, z))\n",
        "\n",
        "def calculate_accuracy(model, data):\n",
        "    predictions = [predict(model, x) for x, _ in data]\n",
        "    ground_truth = [r for _, r in data]\n",
        "    predictions = [1 if pred > 0.5 else 0 for pred in predictions]\n",
        "    correct_predictions = sum(1 for pred, actual in zip(predictions, ground_truth) if pred == actual)\n",
        "    return correct_predictions / len(data)\n",
        "\n",
        "# Backpropagation function with batch version\n",
        "def Backpropagation(model, learning_rate, batch):\n",
        "    delta_v1_sum = np.zeros_like(model[5])\n",
        "    delta_w1_sum = np.zeros_like(model[0])\n",
        "    delta_w2_sum = np.zeros_like(model[1])\n",
        "    delta_w3_sum = np.zeros_like(model[2])\n",
        "    delta_w4_sum = np.zeros_like(model[3])\n",
        "    delta_w5_sum = np.zeros_like(model[4])\n",
        "\n",
        "    for x, r in batch:\n",
        "        # Forward pass\n",
        "        w1, w2, w3, w4, w5, v1 = model\n",
        "        z1 = sigmoid(F(w1, x))\n",
        "        z2 = sigmoid(F(w2, x))\n",
        "        z3 = sigmoid(F(w3, x))\n",
        "        z4 = sigmoid(F(w4, x))\n",
        "        z5 = sigmoid(F(w5, x))\n",
        "        z = np.array([1, z1, z2, z3, z4, z5])\n",
        "        y = sigmoid(F(v1, z))\n",
        "\n",
        "        # Backward pass\n",
        "        delta_v1 = learning_rate * (r - y) * z\n",
        "        delta_w1 = learning_rate * (r - y) * v1[1] * z1 * (1 - z1) * x\n",
        "        delta_w2 = learning_rate * (r - y) * v1[2] * z2 * (1 - z2) * x\n",
        "        delta_w3 = learning_rate * (r - y) * v1[3] * z3 * (1 - z3) * x\n",
        "        delta_w4 = learning_rate * (r - y) * v1[4] * z4 * (1 - z4) * x\n",
        "        delta_w5 = learning_rate * (r - y) * v1[5] * z5 * (1 - z5) * x\n",
        "\n",
        "        delta_v1_sum += delta_v1\n",
        "        delta_w1_sum += delta_w1\n",
        "        delta_w2_sum += delta_w2\n",
        "        delta_w3_sum += delta_w3\n",
        "        delta_w4_sum += delta_w4\n",
        "        delta_w5_sum += delta_w5\n",
        "\n",
        "    # Update model weights after processing the batch\n",
        "    model[5] += delta_v1_sum / len(batch)\n",
        "    model[0] += delta_w1_sum / len(batch)\n",
        "    model[1] += delta_w2_sum / len(batch)\n",
        "    model[2] += delta_w3_sum / len(batch)\n",
        "    model[3] += delta_w4_sum / len(batch)\n",
        "    model[4] += delta_w5_sum / len(batch)\n",
        "\n",
        "    return model\n",
        "\n",
        "# Training data\n",
        "train_data = [((0, 0), 0), ((0, 1), 1), ((1, 0), 1), ((1, 1), 0)]\n",
        "train_data = [(np.array([1, x1, x2]), r) for (x1, x2), r in train_data]\n",
        "\n",
        "# Hyperparameters\n",
        "learning_rate = 0.3\n",
        "iterations = 1000\n",
        "batch_size = 10\n",
        "\n",
        "# Run learning experiments 5 times with the batch version of the algorithm\n",
        "for experiment in range(5):\n",
        "    print(f\"Experiment {experiment+1}:\")\n",
        "\n",
        "    # Set different random seed for each experiment\n",
        "    np.random.seed(42 + experiment)\n",
        "\n",
        "    # Initialize model weights with random values\n",
        "    w1 = np.random.rand(3)\n",
        "    w2 = np.random.rand(3)\n",
        "    w3 = np.random.rand(3)\n",
        "    w4 = np.random.rand(3)\n",
        "    w5 = np.random.rand(3)\n",
        "    v1 = np.random.rand(6)\n",
        "    model = [w1, w2, w3, w4, w5, v1]\n",
        "\n",
        "    # Train the model\n",
        "    for i in range(iterations):\n",
        "        # Shuffle the training data for each iteration\n",
        "        np.random.shuffle(train_data)\n",
        "\n",
        "        # Split the data into batches\n",
        "        batches = [train_data[j:j+batch_size] for j in range(0, len(train_data), batch_size)]\n",
        "\n",
        "        for batch in batches:\n",
        "            # Perform backpropagation with the current batch\n",
        "            model = Backpropagation(model, learning_rate, batch)\n",
        "\n",
        "    # Calculate and print final accuracy\n",
        "    accuracy = calculate_accuracy(model, train_data)\n",
        "    print(f\"Updated Weights:{model}\")\n",
        "    print(\"Final accuracy:\", accuracy)\n",
        "    print()\n"
      ],
      "metadata": {
        "colab": {
          "base_uri": "https://localhost:8080/"
        },
        "id": "tl68TmLhOtZZ",
        "outputId": "8bca92ec-3788-4529-d40d-f56ce0e7fca0"
      },
      "execution_count": null,
      "outputs": [
        {
          "output_type": "stream",
          "name": "stdout",
          "text": [
            "Experiment 1:\n",
            "Updated Weights:[array([-0.29991283,  3.00363647,  3.41759443]), array([0.36668652, 0.84826231, 0.06966462]), array([0.14603546, 2.42628535, 2.78319109]), array([ 1.07238283, -1.50262458,  2.94396466]), array([0.61098347, 0.74733949, 0.08322454]), array([-1.07093778,  3.04738187, -1.02517721,  2.06105903, -2.50676121,\n",
            "       -0.90319631])]\n",
            "Final accuracy: 0.75\n",
            "\n",
            "Experiment 2:\n",
            "Updated Weights:[array([-0.17400119,  0.86471126,  0.41026623]), array([-0.20830525, -0.06523357,  1.60961647]), array([ 0.64113361,  1.95546997, -0.75221224]), array([-0.77302173,  3.96538782,  3.83299214]), array([0.26175855, 0.56882365, 0.93525712]), array([-0.64971251, -0.95232679, -1.55707624, -1.72293603,  4.47759978,\n",
            "       -0.3533927 ])]\n",
            "Final accuracy: 0.75\n",
            "\n",
            "Experiment 3:\n",
            "Updated Weights:[array([0.77693343, 0.70924666, 0.89303411]), array([0.04968399, 2.27205284, 2.13007067]), array([0.33350886, 0.43386744, 0.5283292 ]), array([ 0.96868475,  1.53532972, -0.82456472]), array([0.34941738, 0.0589016 , 0.35178955]), array([-0.55883982,  0.27421683,  2.10883246, -0.18137513, -1.29822197,\n",
            "       -0.46896579])]\n",
            "Final accuracy: 0.5\n",
            "\n",
            "Experiment 4:\n",
            "Updated Weights:[array([0.29029194, 1.98663585, 1.96538655]), array([0.06807364, 0.53684632, 0.56463553]), array([0.02335829, 0.31128424, 0.24779844]), array([0.60384687, 1.32044958, 1.22468799]), array([0.95757751, 0.52456172, 0.65731062]), array([-1.3495452 ,  1.77271307, -0.32156256, -0.63447729,  0.68501487,\n",
            "       -0.15450943])]\n",
            "Final accuracy: 0.75\n",
            "\n",
            "Experiment 5:\n",
            "Updated Weights:[array([ 0.62660606,  1.5526707 , -0.40413283]), array([-0.73145442,  3.91906995,  3.7706767 ]), array([-0.0921466 ,  0.58575886,  1.0806606 ]), array([0.23998482, 0.67517523, 0.35293842]), array([0.094659  , 0.42591337, 0.89286539]), array([-0.84222607, -1.49751751,  4.25586168, -0.70644775, -0.75170836,\n",
            "       -0.89256925])]\n",
            "Final accuracy: 0.75\n",
            "\n"
          ]
        }
      ]
    }
  ]
}